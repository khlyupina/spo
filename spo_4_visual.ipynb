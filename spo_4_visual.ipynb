{
  "nbformat": 4,
  "nbformat_minor": 0,
  "metadata": {
    "colab": {
      "name": "spo_4_visual.ipynb",
      "provenance": [],
      "collapsed_sections": []
    },
    "kernelspec": {
      "name": "python3",
      "display_name": "Python 3"
    }
  },
  "cells": [
    {
      "cell_type": "markdown",
      "metadata": {
        "id": "PCGjmdAM80zl",
        "colab_type": "text"
      },
      "source": [
        "Теперь нам нужно визуализировать данные, полученные и изпользовавшиеся в предыдущей лабораторной на карте. \n",
        "\n",
        "---\n",
        "\n",
        "Начнём с установки и подключения geopandas"
      ]
    },
    {
      "cell_type": "code",
      "metadata": {
        "id": "AJ8Xx9OtO9sB",
        "colab_type": "code",
        "colab": {
          "base_uri": "https://localhost:8080/",
          "height": 462
        },
        "outputId": "8124303b-15cc-4f57-a6fa-a1171b6df026"
      },
      "source": [
        "!pip install geopandas\n",
        "import geopandas as gpd"
      ],
      "execution_count": 1,
      "outputs": [
        {
          "output_type": "stream",
          "text": [
            "Collecting geopandas\n",
            "\u001b[?25l  Downloading https://files.pythonhosted.org/packages/5b/0c/e6c99e561b03482220f00443f610ccf4dce9b50f4b1093d735f93c6fc8c6/geopandas-0.6.2-py2.py3-none-any.whl (919kB)\n",
            "\u001b[K     |████████████████████████████████| 921kB 2.8MB/s \n",
            "\u001b[?25hCollecting pyproj\n",
            "\u001b[?25l  Downloading https://files.pythonhosted.org/packages/d6/70/eedc98cd52b86de24a1589c762612a98bea26cde649ffdd60c1db396cce8/pyproj-2.4.2.post1-cp36-cp36m-manylinux2010_x86_64.whl (10.1MB)\n",
            "\u001b[K     |████████████████████████████████| 10.1MB 34.6MB/s \n",
            "\u001b[?25hRequirement already satisfied: pandas>=0.23.0 in /usr/local/lib/python3.6/dist-packages (from geopandas) (0.25.3)\n",
            "Collecting fiona\n",
            "\u001b[?25l  Downloading https://files.pythonhosted.org/packages/a6/8f/abad0244b2872fca20e49b149c6680a89171c3af9735e9dfa7eb33cc187a/Fiona-1.8.11-cp36-cp36m-manylinux1_x86_64.whl (11.8MB)\n",
            "\u001b[K     |████████████████████████████████| 11.8MB 198kB/s \n",
            "\u001b[?25hRequirement already satisfied: shapely in /usr/local/lib/python3.6/dist-packages (from geopandas) (1.6.4.post2)\n",
            "Requirement already satisfied: numpy>=1.13.3 in /usr/local/lib/python3.6/dist-packages (from pandas>=0.23.0->geopandas) (1.17.4)\n",
            "Requirement already satisfied: pytz>=2017.2 in /usr/local/lib/python3.6/dist-packages (from pandas>=0.23.0->geopandas) (2018.9)\n",
            "Requirement already satisfied: python-dateutil>=2.6.1 in /usr/local/lib/python3.6/dist-packages (from pandas>=0.23.0->geopandas) (2.6.1)\n",
            "Collecting click-plugins>=1.0\n",
            "  Downloading https://files.pythonhosted.org/packages/e9/da/824b92d9942f4e472702488857914bdd50f73021efea15b4cad9aca8ecef/click_plugins-1.1.1-py2.py3-none-any.whl\n",
            "Requirement already satisfied: six>=1.7 in /usr/local/lib/python3.6/dist-packages (from fiona->geopandas) (1.12.0)\n",
            "Requirement already satisfied: click<8,>=4.0 in /usr/local/lib/python3.6/dist-packages (from fiona->geopandas) (7.0)\n",
            "Requirement already satisfied: attrs>=17 in /usr/local/lib/python3.6/dist-packages (from fiona->geopandas) (19.3.0)\n",
            "Collecting cligj>=0.5\n",
            "  Downloading https://files.pythonhosted.org/packages/e4/be/30a58b4b0733850280d01f8bd132591b4668ed5c7046761098d665ac2174/cligj-0.5.0-py3-none-any.whl\n",
            "Collecting munch\n",
            "  Downloading https://files.pythonhosted.org/packages/cc/ab/85d8da5c9a45e072301beb37ad7f833cd344e04c817d97e0cc75681d248f/munch-2.5.0-py2.py3-none-any.whl\n",
            "Installing collected packages: pyproj, click-plugins, cligj, munch, fiona, geopandas\n",
            "Successfully installed click-plugins-1.1.1 cligj-0.5.0 fiona-1.8.11 geopandas-0.6.2 munch-2.5.0 pyproj-2.4.2.post1\n"
          ],
          "name": "stdout"
        }
      ]
    },
    {
      "cell_type": "markdown",
      "metadata": {
        "id": "_zdm0iJG9JK8",
        "colab_type": "text"
      },
      "source": [
        "Далее выгружаем файл, содержащий данные о координатах округов Санкт-Петербурга:"
      ]
    },
    {
      "cell_type": "code",
      "metadata": {
        "id": "4odRrpvSRba-",
        "colab_type": "code",
        "colab": {
          "resources": {
            "http://localhost:8080/nbextensions/google.colab/files.js": {
              "data": "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",
              "ok": true,
              "headers": [
                [
                  "content-type",
                  "application/javascript"
                ]
              ],
              "status": 200,
              "status_text": ""
            }
          },
          "base_uri": "https://localhost:8080/",
          "height": 74
        },
        "outputId": "a5fb0ee7-ff0c-4e23-b421-168984f840ee"
      },
      "source": [
        "from google.colab import files\n",
        "uploaded = files.upload()\n"
      ],
      "execution_count": 105,
      "outputs": [
        {
          "output_type": "display_data",
          "data": {
            "text/html": [
              "\n",
              "     <input type=\"file\" id=\"files-adaf9389-9056-4183-98ff-6c825c0e0878\" name=\"files[]\" multiple disabled />\n",
              "     <output id=\"result-adaf9389-9056-4183-98ff-6c825c0e0878\">\n",
              "      Upload widget is only available when the cell has been executed in the\n",
              "      current browser session. Please rerun this cell to enable.\n",
              "      </output>\n",
              "      <script src=\"/nbextensions/google.colab/files.js\"></script> "
            ],
            "text/plain": [
              "<IPython.core.display.HTML object>"
            ]
          },
          "metadata": {
            "tags": []
          }
        },
        {
          "output_type": "stream",
          "text": [
            "Saving admin_level_8_geojson.geojson to admin_level_8_geojson (1).geojson\n"
          ],
          "name": "stdout"
        }
      ]
    },
    {
      "cell_type": "code",
      "metadata": {
        "id": "TbDwUTXGPbrT",
        "colab_type": "code",
        "colab": {}
      },
      "source": [
        "%matplotlib inline\n",
        "mo = gpd.read_file('admin_level_8_geojson.geojson')"
      ],
      "execution_count": 0,
      "outputs": []
    },
    {
      "cell_type": "markdown",
      "metadata": {
        "id": "nYBeYnt59gUY",
        "colab_type": "text"
      },
      "source": [
        "Теперь нам нужно из сводного массива данных по городу, выбрать геометрические позиции только тех округов, которые относятся к Красногвардейскому району. "
      ]
    },
    {
      "cell_type": "code",
      "metadata": {
        "id": "wlot5Fl1ayek",
        "colab_type": "code",
        "colab": {
          "base_uri": "https://localhost:8080/",
          "height": 204
        },
        "outputId": "9d2ff9e6-b802-4981-d0d9-855b764c5b24"
      },
      "source": [
        "krasnogv = mo[(mo.name == 'округ Ржевка') | (mo.name == 'округ Полюстрово') | (mo.name == 'округ Большая Охта') | \\\n",
        "       (mo.name == 'округ Малая Охта') | (mo.name == 'округ Пороховые')] \n",
        "krasnogv = krasnogv[['name', 'geometry']]\n",
        "krasnogv_win = krasnogv\n",
        "krasnogv_zh = krasnogv\n",
        "krasnogv"
      ],
      "execution_count": 107,
      "outputs": [
        {
          "output_type": "execute_result",
          "data": {
            "text/html": [
              "<div>\n",
              "<style scoped>\n",
              "    .dataframe tbody tr th:only-of-type {\n",
              "        vertical-align: middle;\n",
              "    }\n",
              "\n",
              "    .dataframe tbody tr th {\n",
              "        vertical-align: top;\n",
              "    }\n",
              "\n",
              "    .dataframe thead th {\n",
              "        text-align: right;\n",
              "    }\n",
              "</style>\n",
              "<table border=\"1\" class=\"dataframe\">\n",
              "  <thead>\n",
              "    <tr style=\"text-align: right;\">\n",
              "      <th></th>\n",
              "      <th>name</th>\n",
              "      <th>geometry</th>\n",
              "    </tr>\n",
              "  </thead>\n",
              "  <tbody>\n",
              "    <tr>\n",
              "      <th>382</th>\n",
              "      <td>округ Малая Охта</td>\n",
              "      <td>MULTIPOLYGON (((30.44864 59.93848, 30.44840 59...</td>\n",
              "    </tr>\n",
              "    <tr>\n",
              "      <th>490</th>\n",
              "      <td>округ Пороховые</td>\n",
              "      <td>MULTIPOLYGON (((30.50775 59.94562, 30.50512 59...</td>\n",
              "    </tr>\n",
              "    <tr>\n",
              "      <th>3923</th>\n",
              "      <td>округ Ржевка</td>\n",
              "      <td>MULTIPOLYGON (((30.56533 59.97092, 30.56477 59...</td>\n",
              "    </tr>\n",
              "    <tr>\n",
              "      <th>12395</th>\n",
              "      <td>округ Большая Охта</td>\n",
              "      <td>MULTIPOLYGON (((30.44636 59.96046, 30.43920 59...</td>\n",
              "    </tr>\n",
              "    <tr>\n",
              "      <th>12397</th>\n",
              "      <td>округ Полюстрово</td>\n",
              "      <td>MULTIPOLYGON (((30.49614 59.99037, 30.49451 59...</td>\n",
              "    </tr>\n",
              "  </tbody>\n",
              "</table>\n",
              "</div>"
            ],
            "text/plain": [
              "                     name                                           geometry\n",
              "382      округ Малая Охта  MULTIPOLYGON (((30.44864 59.93848, 30.44840 59...\n",
              "490       округ Пороховые  MULTIPOLYGON (((30.50775 59.94562, 30.50512 59...\n",
              "3923         округ Ржевка  MULTIPOLYGON (((30.56533 59.97092, 30.56477 59...\n",
              "12395  округ Большая Охта  MULTIPOLYGON (((30.44636 59.96046, 30.43920 59...\n",
              "12397    округ Полюстрово  MULTIPOLYGON (((30.49614 59.99037, 30.49451 59..."
            ]
          },
          "metadata": {
            "tags": []
          },
          "execution_count": 107
        }
      ]
    },
    {
      "cell_type": "markdown",
      "metadata": {
        "id": "BnIMk4Ht9wu1",
        "colab_type": "text"
      },
      "source": [
        "Следующим шагом подключим необходимые для работы модули и позаимствуем часть кода из предыдущей лабораторной (по сбору данных, относящихся к статистике по УИКам Красногвардейского района)"
      ]
    },
    {
      "cell_type": "code",
      "metadata": {
        "id": "lrSXbVKNbtr8",
        "colab_type": "code",
        "colab": {}
      },
      "source": [
        "import pandas as pd\n",
        "import requests"
      ],
      "execution_count": 0,
      "outputs": []
    },
    {
      "cell_type": "code",
      "metadata": {
        "id": "-A89iVEscVEz",
        "colab_type": "code",
        "colab": {}
      },
      "source": [
        "tic4 = \"http://www.st-petersburg.vybory.izbirkom.ru/region/region/st-petersburg?action=show&tvd=27820001217417&vrn=27820001217413&region=78&global=&sub_region=78&prver=0&pronetvd=null&vibid=27820001217422&type=222\"\n",
        "tic25 = \"http://www.st-petersburg.vybory.izbirkom.ru/region/region/st-petersburg?action=show&tvd=27820001217417&vrn=27820001217413&region=78&global=&sub_region=78&prver=0&pronetvd=null&vibid=27820001217443&type=222\"\n",
        "\n",
        "def parser(url):\n",
        "  response = requests.get(url)\n",
        "  icom = pd.read_html(url, encoding='cp1251', header = 0)[7]\n",
        "  icom.drop([1],inplace = True)\n",
        "  for i in range(icom.shape[1]): \n",
        "    icom.iloc[1,i] = int(icom.iloc[1,i]) + int(icom.iloc[2,i]) \n",
        "    for j in range(3):\n",
        "      icom.iloc[(11+j),i] = (icom.iloc[(11+j),i]).split()[1] \n",
        "  icom.drop([int(k) for k in range(3,12)], inplace = True)\n",
        "  return(icom)\n",
        "    \n",
        "icomps1 = parser(tic4)\n",
        "icomps2 = parser(tic25)\n",
        "\n",
        "#print(icomps1)\n",
        "#print(icomps2)"
      ],
      "execution_count": 0,
      "outputs": []
    },
    {
      "cell_type": "markdown",
      "metadata": {
        "id": "mHGg7jbo-IPF",
        "colab_type": "text"
      },
      "source": [
        "Следующие блоки содержат, опять же, часть программы предыдущей лабораторной, но дополнительно мы еще соберём данные по количеству населения отдельных округов Красногвардейского района. Ну, а из прошлой лабораторной возьмем подсчёт статистики явки по УИКам и распределению голосов между кандидатами."
      ]
    },
    {
      "cell_type": "code",
      "metadata": {
        "id": "n4Z1350KcrOW",
        "colab_type": "code",
        "colab": {}
      },
      "source": [
        "procent_appearence = []\n",
        "procent_appearence1 = []\n",
        "procent_appearence2 = []\n",
        "zhitely = []\n",
        "for i in range(icomps1.shape[1]): \n",
        "    procent = int(icomps1.iloc[1, i])/(int(icomps1.iloc[0,i]))\n",
        "    procent_appearence1.append(procent*100)\n",
        "    zhitely.append(int(icomps1.iloc[0,i]))\n",
        "   \n",
        "for i in range(icomps2.shape[1]): \n",
        "    procent = int(icomps2.iloc[1, i])/(int(icomps2.iloc[0,i]))\n",
        "    procent_appearence2.append(procent*100)\n",
        "    zhitely.append(int(icomps2.iloc[0,i]))\n",
        "    \n",
        "procent_appearence = procent_appearence1 + procent_appearence2\n",
        "#print(procent_appearence)"
      ],
      "execution_count": 0,
      "outputs": []
    },
    {
      "cell_type": "code",
      "metadata": {
        "id": "V8pTMCdlcyLC",
        "colab_type": "code",
        "colab": {}
      },
      "source": [
        "Amosov = []\n",
        "Beglov = []\n",
        "Tikhonova = []\n",
        "appearence = []\n",
        "for i in range(icomps1.shape[1]):\n",
        "    Amosov.append(float(icomps1.iloc[2, i].split(\"%\")[0]))\n",
        "    Beglov.append(float(icomps1.iloc[3, i].split(\"%\")[0]))\n",
        "    Tikhonova.append(float(icomps1.iloc[4, i].split(\"%\")[0]))\n",
        "    appearence.append(int(icomps1.iloc[0,i]))\n",
        "for i in range(icomps2.shape[1]):\n",
        "    Amosov.append(float(icomps2.iloc[2, i].split(\"%\")[0]))\n",
        "    Beglov.append(float(icomps2.iloc[3, i].split(\"%\")[0]))\n",
        "    Tikhonova.append(float(icomps2.iloc[4, i].split(\"%\")[0]))\n",
        "    appearence.append(int(icomps2.iloc[0,i]))"
      ],
      "execution_count": 0,
      "outputs": []
    },
    {
      "cell_type": "markdown",
      "metadata": {
        "id": "BtLTaa_e-rBw",
        "colab_type": "text"
      },
      "source": [
        "Теперь нам нужно разделить сводные данные со всего района по отдельным округам, ранее выбранных чуть выше. Это необходимо для дальнейшей визуализации на карте результатов и некоторых статистик по отдельным округам как частям Красногвардейского района. \n",
        "\n",
        "---\n",
        "Что мы делаем в следующем блоке?\n",
        "Собираем информацию по округам касательно населения, процента явки и победителя среди кандидатов отдельно по каждому из округов, таких как Малая Охта, Большая Охта, Ржевка, Пороховые и Полюстрово.  \n",
        "\n",
        "\n",
        "\n"
      ]
    },
    {
      "cell_type": "code",
      "metadata": {
        "id": "XiAHbozYcy3D",
        "colab_type": "code",
        "colab": {}
      },
      "source": [
        "krsn_procent_appearence = []\n",
        "appearence_mal_ohta = 0\n",
        "appearence_bol_ohta = 0\n",
        "appearence_porohovye = 0\n",
        "appearence_rzhevka = 0\n",
        "appearence_polyustrovo = 0\n",
        "\n",
        "mal_ohta = 0\n",
        "bol_ohta = 0\n",
        "porohovye = 0\n",
        "rzhevka = 0\n",
        "polyustrovo = 0\n",
        "winner_okrug = []\n",
        "population = []\n",
        "\n",
        "#ВЫБОРКА ДАННЫХ ДЛЯ:\n",
        "\n",
        "#МАЛОЙ ОХТЫ\n",
        "mal_ohta_sum_Amosov=0\n",
        "mal_ohta_sum_Beglov=0\n",
        "mal_ohta_sum_Tikhonova=0\n",
        "mal_popul=0\n",
        "\n",
        "for i in range(40,57):\n",
        "  appearence_mal_ohta += procent_appearence[i] \n",
        "  mal_ohta += 1\n",
        "  mal_popul += zhitely[i] \n",
        "  if (Amosov[i]>Beglov[i]) & (Amosov[i]>Tikhonova[i]):\n",
        "    mal_ohta_sum_Amosov += 1\n",
        "  if (Beglov[i]>Amosov[i]) & (Beglov[i]>Tikhonova[i]):  \n",
        "    mal_ohta_sum_Beglov += 1\n",
        "  if (Tikhonova[i]>Beglov[i]) & (Tikhonova[i]>Amosov[i]):  \n",
        "    mal_ohta_sum_Tikhonova += 1\n",
        "\n",
        "if (mal_ohta_sum_Amosov > mal_ohta_sum_Beglov) & (mal_ohta_sum_Amosov > mal_ohta_sum_Tikhonova):\n",
        "  winner_okrug.append('Амосов')\n",
        "if (mal_ohta_sum_Beglov > mal_ohta_sum_Amosov) & (mal_ohta_sum_Beglov > mal_ohta_sum_Tikhonova):\n",
        "  winner_okrug.append('Беглов')\n",
        "if (mal_ohta_sum_Tikhonova > mal_ohta_sum_Beglov) & (mal_ohta_sum_Tikhonova > mal_ohta_sum_Amosov):\n",
        "  winner_okrug.append('Тихонова')    \n",
        "\n",
        "population.append(mal_popul) \n",
        "\n",
        "#БОЛЬШОЙ ОХТЫ\n",
        "bol_ohta_sum_Amosov=0\n",
        "bol_ohta_sum_Beglov=0\n",
        "bol_ohta_sum_Tikhonova=0\n",
        "bol_popul = 0\n",
        "\n",
        "for i in range(20,40):\n",
        "  appearence_bol_ohta += procent_appearence[i]\n",
        "  bol_ohta += 1 \n",
        "  bol_popul += zhitely[i] \n",
        "  if (Amosov[i]>Beglov[i]) & (Amosov[i]>Tikhonova[i]):\n",
        "    bol_ohta_sum_Amosov += 1\n",
        "  if (Beglov[i]>Amosov[i]) & (Beglov[i]>Tikhonova[i]):  \n",
        "    bol_ohta_sum_Beglov += 1\n",
        "  if (Tikhonova[i]>Beglov[i]) & (Tikhonova[i]>Amosov[i]):  \n",
        "    bol_ohta_sum_Tikhonova += 1\n",
        "for i in range(57,59):\n",
        "  appearence_bol_ohta += procent_appearence[i]  \n",
        "  bol_ohta += 1\n",
        "  bol_popul += zhitely[i]  \n",
        "  if (Amosov[i]>Beglov[i]) & (Amosov[i]>Tikhonova[i]):\n",
        "    bol_ohta_sum_Amosov += 1\n",
        "  if (Beglov[i]>Amosov[i]) & (Beglov[i]>Tikhonova[i]):  \n",
        "    bol_ohta_sum_Beglov += 1\n",
        "  if (Tikhonova[i]>Beglov[i]) & (Tikhonova[i]>Amosov[i]):  \n",
        "    bol_ohta_sum_Tikhonova += 1\n",
        "\n",
        "if (bol_ohta_sum_Amosov > bol_ohta_sum_Beglov) & (bol_ohta_sum_Amosov > bol_ohta_sum_Tikhonova):\n",
        "  winner_okrug.append('Амосов')\n",
        "if (bol_ohta_sum_Beglov > bol_ohta_sum_Amosov) & (bol_ohta_sum_Beglov > bol_ohta_sum_Tikhonova):\n",
        "  winner_okrug.append('Беглов')\n",
        "if (bol_ohta_sum_Tikhonova > bol_ohta_sum_Beglov) & (bol_ohta_sum_Tikhonova > bol_ohta_sum_Amosov):\n",
        "  winner_okrug.append('Тихонова')    \n",
        "\n",
        "population.append(bol_popul)   \n",
        "\n",
        "#ПОРОХОВЫЕ\n",
        "porohovye_sum_Amosov=0\n",
        "porohovye_sum_Beglov=0\n",
        "porohovye_sum_Tikhonova=0\n",
        "porohovye_popul = 0\n",
        "\n",
        "for i in range(65,116):\n",
        "  appearence_porohovye += procent_appearence[i]\n",
        "  porohovye += 1\n",
        "  porohovye_popul += zhitely[i] \n",
        "  if (Amosov[i]>Beglov[i]) & (Amosov[i]>Tikhonova[i]):\n",
        "    porohovye_sum_Amosov += 1\n",
        "  if (Beglov[i]>Amosov[i]) & (Beglov[i]>Tikhonova[i]):  \n",
        "    porohovye_sum_Beglov += 1\n",
        "  if (Tikhonova[i]>Beglov[i]) & (Tikhonova[i]>Amosov[i]):  \n",
        "    porohovye_sum_Tikhonova += 1\n",
        "\n",
        "if (porohovye_sum_Amosov > porohovye_sum_Beglov) & (porohovye_sum_Amosov > porohovye_sum_Tikhonova):\n",
        "  winner_okrug.append('Амосов')\n",
        "if (porohovye_sum_Beglov > porohovye_sum_Amosov) & (porohovye_sum_Beglov > porohovye_sum_Tikhonova):\n",
        "  winner_okrug.append('Беглов')\n",
        "if (porohovye_sum_Tikhonova > porohovye_sum_Beglov) & (porohovye_sum_Tikhonova > porohovye_sum_Amosov):\n",
        "  winner_okrug.append('Тихонова')    \n",
        "\n",
        "population.append(porohovye_popul)    \n",
        "\n",
        "#РЖЕВКА\n",
        "rzhevka_sum_Amosov=0\n",
        "rzhevka_sum_Beglov=0\n",
        "rzhevka_sum_Tikhonova=0\n",
        "rzhevka_popul = 0\n",
        "for i in range(116,140):\n",
        "  appearence_rzhevka += procent_appearence[i]\n",
        "  rzhevka += 1\n",
        "  rzhevka_popul += zhitely[i] \n",
        "  if (Amosov[i]>Beglov[i]) & (Amosov[i]>Tikhonova[i]):\n",
        "    rzhevka_sum_Amosov += 1\n",
        "  if (Beglov[i]>Amosov[i]) & (Beglov[i]>Tikhonova[i]):  \n",
        "    rzhevka_sum_Beglov += 1\n",
        "  if (Tikhonova[i]>Beglov[i]) & (Tikhonova[i]>Amosov[i]):  \n",
        "    rzhevka_sum_Tikhonova += 1\n",
        "\n",
        "if (rzhevka_sum_Amosov > porohovye_sum_Beglov) & (rzhevka_sum_Amosov > rzhevka_sum_Tikhonova):\n",
        "  winner_okrug.append('Амосов')\n",
        "if (rzhevka_sum_Beglov > porohovye_sum_Amosov) & (rzhevka_sum_Beglov > rzhevka_sum_Tikhonova):\n",
        "  winner_okrug.append('Беглов')\n",
        "if (rzhevka_sum_Tikhonova > porohovye_sum_Beglov) & (rzhevka_sum_Tikhonova > rzhevka_sum_Amosov):\n",
        "  winner_okrug.append('Тихонова')  \n",
        "\n",
        "population.append(rzhevka_popul) \n",
        "\n",
        "#ПОЛЮСТРОВО\n",
        "polyustrovo_sum_Amosov=0\n",
        "polyustrovo_sum_Beglov=0\n",
        "polyustrovo_sum_Tikhonova=0\n",
        "polyustrovo_popul = 0\n",
        "\n",
        "for i in range(20):\n",
        "  appearence_polyustrovo += procent_appearence[i]\n",
        "  polyustrovo += 1\n",
        "  polyustrovo_popul += zhitely[i] \n",
        "  if (Amosov[i]>Beglov[i]) & (Amosov[i]>Tikhonova[i]):\n",
        "    polyustrovo_sum_Amosov += 1\n",
        "  if (Beglov[i]>Amosov[i]) & (Beglov[i]>Tikhonova[i]):  \n",
        "    polyustrovo_sum_Beglov += 1\n",
        "  if (Tikhonova[i]>Beglov[i]) & (Tikhonova[i]>Amosov[i]):  \n",
        "    polyustrovo_sum_Tikhonova += 1\n",
        "for i in range(59,65):  \n",
        "  appearence_polyustrovo += procent_appearence[i]\n",
        "  polyustrovo += 1\n",
        "  polyustrovo_popul += zhitely[i] \n",
        "  if (Amosov[i]>Beglov[i]) & (Amosov[i]>Tikhonova[i]):\n",
        "    polyustrovo_sum_Amosov += 1\n",
        "  if (Beglov[i]>Amosov[i]) & (Beglov[i]>Tikhonova[i]):  \n",
        "    polyustrovo_sum_Beglov += 1\n",
        "  if (Tikhonova[i]>Beglov[i]) & (Tikhonova[i]>Amosov[i]):  \n",
        "    polyustrovo_sum_Tikhonova += 1\n",
        "\n",
        "if (polyustrovo_sum_Amosov > polyustrovo_sum_Beglov) & (polyustrovo_sum_Amosov > polyustrovo_sum_Tikhonova):\n",
        "  winner_okrug.append('Амосов')\n",
        "if (polyustrovo_sum_Beglov > polyustrovo_sum_Amosov) & (polyustrovo_sum_Beglov > polyustrovo_sum_Tikhonova):\n",
        "  winner_okrug.append('Беглов')\n",
        "if (polyustrovo_sum_Tikhonova > polyustrovo_sum_Beglov) & (polyustrovo_sum_Tikhonova > polyustrovo_sum_Amosov):\n",
        "  winner_okrug.append('Тихонова')    \n",
        "  \n",
        "population.append(polyustrovo_popul) \n",
        "\n",
        "krsn_procent_appearence.append(int(appearence_mal_ohta / mal_ohta))\n",
        "krsn_procent_appearence.append(int(appearence_bol_ohta / bol_ohta))\n",
        "krsn_procent_appearence.append(int(appearence_porohovye / porohovye))\n",
        "krsn_procent_appearence.append(int(appearence_rzhevka / rzhevka))\n",
        "krsn_procent_appearence.append(int(appearence_polyustrovo / polyustrovo))\n",
        "#print(krsn_procent_appearence)\n",
        "#print(winner_okrug)\n",
        "#print(population)"
      ],
      "execution_count": 0,
      "outputs": []
    },
    {
      "cell_type": "markdown",
      "metadata": {
        "id": "AQUtK8B0_wKw",
        "colab_type": "text"
      },
      "source": [
        "Приступаем к визуализации.\n",
        "\n",
        "---\n",
        "Для начала просто покажем на карте расположение отдельных округов района.\n"
      ]
    },
    {
      "cell_type": "code",
      "metadata": {
        "id": "53x97F66t04M",
        "colab_type": "code",
        "colab": {
          "base_uri": "https://localhost:8080/",
          "height": 554
        },
        "outputId": "efaab2fa-6dee-4e5a-bacc-4df58fec58e2"
      },
      "source": [
        "krasnogvardeysky_map = gpd.GeoDataFrame(krasnogv)\n",
        "krasnogvardeysky_map.plot(column = 'name',  cmap='rainbow', legend=True, figsize=[12,12])"
      ],
      "execution_count": 113,
      "outputs": [
        {
          "output_type": "execute_result",
          "data": {
            "text/plain": [
              "<matplotlib.axes._subplots.AxesSubplot at 0x7fec068e2828>"
            ]
          },
          "metadata": {
            "tags": []
          },
          "execution_count": 113
        },
        {
          "output_type": "display_data",
          "data": {
            "image/png": "[encoded data removed]",
            "text/plain": [
              "<Figure size 864x864 with 1 Axes>"
            ]
          },
          "metadata": {
            "tags": []
          }
        }
      ]
    },
    {
      "cell_type": "markdown",
      "metadata": {
        "id": "_N0ka0zsACEq",
        "colab_type": "text"
      },
      "source": [
        "Далее составим табличку для удобного отображения данных по количеству населения отдельных округов, а затем визуализируем эти данные на карте. "
      ]
    },
    {
      "cell_type": "code",
      "metadata": {
        "id": "hWAcivF107JI",
        "colab_type": "code",
        "colab": {
          "base_uri": "https://localhost:8080/",
          "height": 204
        },
        "outputId": "74bb00f5-bb7e-4bb0-b2de-1913274e4acf"
      },
      "source": [
        "ind1 = ['382', '490', '3923', '12395', '12397']\n",
        "krasnogv_ = pd.DataFrame(data={'Население' :population}, index = ind1)\n",
        "krasnogv_zh = pd.merge(krasnogv_zh, krasnogv_, on=krasnogv_zh.index, how='inner')\n",
        "krasnogv_zh"
      ],
      "execution_count": 114,
      "outputs": [
        {
          "output_type": "execute_result",
          "data": {
            "text/html": [
              "<div>\n",
              "<style scoped>\n",
              "    .dataframe tbody tr th:only-of-type {\n",
              "        vertical-align: middle;\n",
              "    }\n",
              "\n",
              "    .dataframe tbody tr th {\n",
              "        vertical-align: top;\n",
              "    }\n",
              "\n",
              "    .dataframe thead th {\n",
              "        text-align: right;\n",
              "    }\n",
              "</style>\n",
              "<table border=\"1\" class=\"dataframe\">\n",
              "  <thead>\n",
              "    <tr style=\"text-align: right;\">\n",
              "      <th></th>\n",
              "      <th>key_0</th>\n",
              "      <th>name</th>\n",
              "      <th>geometry</th>\n",
              "      <th>Население</th>\n",
              "    </tr>\n",
              "  </thead>\n",
              "  <tbody>\n",
              "    <tr>\n",
              "      <th>0</th>\n",
              "      <td>382</td>\n",
              "      <td>округ Малая Охта</td>\n",
              "      <td>MULTIPOLYGON (((30.44864 59.93848, 30.44840 59...</td>\n",
              "      <td>32026</td>\n",
              "    </tr>\n",
              "    <tr>\n",
              "      <th>1</th>\n",
              "      <td>490</td>\n",
              "      <td>округ Пороховые</td>\n",
              "      <td>MULTIPOLYGON (((30.50775 59.94562, 30.50512 59...</td>\n",
              "      <td>42099</td>\n",
              "    </tr>\n",
              "    <tr>\n",
              "      <th>2</th>\n",
              "      <td>3923</td>\n",
              "      <td>округ Ржевка</td>\n",
              "      <td>MULTIPOLYGON (((30.56533 59.97092, 30.56477 59...</td>\n",
              "      <td>94727</td>\n",
              "    </tr>\n",
              "    <tr>\n",
              "      <th>3</th>\n",
              "      <td>12395</td>\n",
              "      <td>округ Большая Охта</td>\n",
              "      <td>MULTIPOLYGON (((30.44636 59.96046, 30.43920 59...</td>\n",
              "      <td>43842</td>\n",
              "    </tr>\n",
              "    <tr>\n",
              "      <th>4</th>\n",
              "      <td>12397</td>\n",
              "      <td>округ Полюстрово</td>\n",
              "      <td>MULTIPOLYGON (((30.49614 59.99037, 30.49451 59...</td>\n",
              "      <td>48513</td>\n",
              "    </tr>\n",
              "  </tbody>\n",
              "</table>\n",
              "</div>"
            ],
            "text/plain": [
              "   key_0  ... Население\n",
              "0    382  ...     32026\n",
              "1    490  ...     42099\n",
              "2   3923  ...     94727\n",
              "3  12395  ...     43842\n",
              "4  12397  ...     48513\n",
              "\n",
              "[5 rows x 4 columns]"
            ]
          },
          "metadata": {
            "tags": []
          },
          "execution_count": 114
        }
      ]
    },
    {
      "cell_type": "markdown",
      "metadata": {
        "id": "9vjZIDYpAeHY",
        "colab_type": "text"
      },
      "source": [
        "# Количество населения по округам Красногвардейского района: "
      ]
    },
    {
      "cell_type": "code",
      "metadata": {
        "id": "ntFNww6c1aVG",
        "colab_type": "code",
        "colab": {
          "base_uri": "https://localhost:8080/",
          "height": 700
        },
        "outputId": "7836f246-33c8-45a1-9397-a6d987482dd3"
      },
      "source": [
        "krasnogv_zh_map = gpd.GeoDataFrame(krasnogv_zh)\n",
        "krasnogv_zh_map.plot(column = 'Население',  cmap='plasma', legend=True, figsize=[12,12])"
      ],
      "execution_count": 115,
      "outputs": [
        {
          "output_type": "execute_result",
          "data": {
            "text/plain": [
              "<matplotlib.axes._subplots.AxesSubplot at 0x7fec06945668>"
            ]
          },
          "metadata": {
            "tags": []
          },
          "execution_count": 115
        },
        {
          "output_type": "display_data",
          "data": {
            "image/png": "[encoded data removed]",
            "text/plain": [
              "<Figure size 864x864 with 2 Axes>"
            ]
          },
          "metadata": {
            "tags": []
          }
        }
      ]
    },
    {
      "cell_type": "markdown",
      "metadata": {
        "id": "a1D_Zaq3AqkP",
        "colab_type": "text"
      },
      "source": [
        "Далее в удобной табличной форме собираем данные по победителям в отдельных округах и тоже визуализируем на карте."
      ]
    },
    {
      "cell_type": "code",
      "metadata": {
        "id": "dfYmWj56jepm",
        "colab_type": "code",
        "colab": {
          "base_uri": "https://localhost:8080/",
          "height": 204
        },
        "outputId": "c4a93175-c3ea-4f8d-d7fc-65f4ebd4536e"
      },
      "source": [
        "ind = ['382', '490', '3923', '12395', '12397']\n",
        "krasnogv1 = pd.DataFrame(data={'Победитель по округу' :winner_okrug}, index = ind)\n",
        "krasnogv_win = pd.merge(krasnogv_win, krasnogv1, on=krasnogv_win.index, how='inner')\n",
        "krasnogv_win"
      ],
      "execution_count": 116,
      "outputs": [
        {
          "output_type": "execute_result",
          "data": {
            "text/html": [
              "<div>\n",
              "<style scoped>\n",
              "    .dataframe tbody tr th:only-of-type {\n",
              "        vertical-align: middle;\n",
              "    }\n",
              "\n",
              "    .dataframe tbody tr th {\n",
              "        vertical-align: top;\n",
              "    }\n",
              "\n",
              "    .dataframe thead th {\n",
              "        text-align: right;\n",
              "    }\n",
              "</style>\n",
              "<table border=\"1\" class=\"dataframe\">\n",
              "  <thead>\n",
              "    <tr style=\"text-align: right;\">\n",
              "      <th></th>\n",
              "      <th>key_0</th>\n",
              "      <th>name</th>\n",
              "      <th>geometry</th>\n",
              "      <th>Победитель по округу</th>\n",
              "    </tr>\n",
              "  </thead>\n",
              "  <tbody>\n",
              "    <tr>\n",
              "      <th>0</th>\n",
              "      <td>382</td>\n",
              "      <td>округ Малая Охта</td>\n",
              "      <td>MULTIPOLYGON (((30.44864 59.93848, 30.44840 59...</td>\n",
              "      <td>Беглов</td>\n",
              "    </tr>\n",
              "    <tr>\n",
              "      <th>1</th>\n",
              "      <td>490</td>\n",
              "      <td>округ Пороховые</td>\n",
              "      <td>MULTIPOLYGON (((30.50775 59.94562, 30.50512 59...</td>\n",
              "      <td>Беглов</td>\n",
              "    </tr>\n",
              "    <tr>\n",
              "      <th>2</th>\n",
              "      <td>3923</td>\n",
              "      <td>округ Ржевка</td>\n",
              "      <td>MULTIPOLYGON (((30.56533 59.97092, 30.56477 59...</td>\n",
              "      <td>Беглов</td>\n",
              "    </tr>\n",
              "    <tr>\n",
              "      <th>3</th>\n",
              "      <td>12395</td>\n",
              "      <td>округ Большая Охта</td>\n",
              "      <td>MULTIPOLYGON (((30.44636 59.96046, 30.43920 59...</td>\n",
              "      <td>Беглов</td>\n",
              "    </tr>\n",
              "    <tr>\n",
              "      <th>4</th>\n",
              "      <td>12397</td>\n",
              "      <td>округ Полюстрово</td>\n",
              "      <td>MULTIPOLYGON (((30.49614 59.99037, 30.49451 59...</td>\n",
              "      <td>Беглов</td>\n",
              "    </tr>\n",
              "  </tbody>\n",
              "</table>\n",
              "</div>"
            ],
            "text/plain": [
              "   key_0  ... Победитель по округу\n",
              "0    382  ...               Беглов\n",
              "1    490  ...               Беглов\n",
              "2   3923  ...               Беглов\n",
              "3  12395  ...               Беглов\n",
              "4  12397  ...               Беглов\n",
              "\n",
              "[5 rows x 4 columns]"
            ]
          },
          "metadata": {
            "tags": []
          },
          "execution_count": 116
        }
      ]
    },
    {
      "cell_type": "markdown",
      "metadata": {
        "id": "LtYBTmoKA4-1",
        "colab_type": "text"
      },
      "source": [
        "# Победители выборов по округам (ну то есть очевидный победитеЛЬ)"
      ]
    },
    {
      "cell_type": "code",
      "metadata": {
        "id": "tqrOgJDmk5XB",
        "colab_type": "code",
        "colab": {
          "base_uri": "https://localhost:8080/",
          "height": 554
        },
        "outputId": "33552a48-29cf-4145-b701-b169977ef7b2"
      },
      "source": [
        "krasnogv_win_map = gpd.GeoDataFrame(krasnogv_win)\n",
        "krasnogv_win_map.plot(column = 'Победитель по округу',  cmap='ocean', legend=True, figsize=[12,12])\n"
      ],
      "execution_count": 117,
      "outputs": [
        {
          "output_type": "execute_result",
          "data": {
            "text/plain": [
              "<matplotlib.axes._subplots.AxesSubplot at 0x7fec069ff668>"
            ]
          },
          "metadata": {
            "tags": []
          },
          "execution_count": 117
        },
        {
          "output_type": "display_data",
          "data": {
            "image/png": "[encoded data removed]",
            "text/plain": [
              "<Figure size 864x864 with 1 Axes>"
            ]
          },
          "metadata": {
            "tags": []
          }
        }
      ]
    },
    {
      "cell_type": "markdown",
      "metadata": {
        "id": "pB3CQ6wwBGlD",
        "colab_type": "text"
      },
      "source": [
        "Ну и, наконец, покажем на карте зависимость явки избирателей на выборы в зависимости от округа проживания, для чего предварительно соберем в сводную таблицу данные по явке, полученные ранее."
      ]
    },
    {
      "cell_type": "code",
      "metadata": {
        "id": "Xd1LJDSfivLL",
        "colab_type": "code",
        "colab": {
          "base_uri": "https://localhost:8080/",
          "height": 204
        },
        "outputId": "9cf4e82f-4396-489a-b838-25f9d4cfb614"
      },
      "source": [
        "ind2 = ['382', '490', '3923', '12395', '12397']\n",
        "krasnogv2 = pd.DataFrame(data={'Явка, %' :krsn_procent_appearence}, index = ind2)\n",
        "krasnogv = pd.merge(krasnogv, krasnogv2, on=krasnogv.index, how='inner')\n",
        "krasnogv"
      ],
      "execution_count": 118,
      "outputs": [
        {
          "output_type": "execute_result",
          "data": {
            "text/html": [
              "<div>\n",
              "<style scoped>\n",
              "    .dataframe tbody tr th:only-of-type {\n",
              "        vertical-align: middle;\n",
              "    }\n",
              "\n",
              "    .dataframe tbody tr th {\n",
              "        vertical-align: top;\n",
              "    }\n",
              "\n",
              "    .dataframe thead th {\n",
              "        text-align: right;\n",
              "    }\n",
              "</style>\n",
              "<table border=\"1\" class=\"dataframe\">\n",
              "  <thead>\n",
              "    <tr style=\"text-align: right;\">\n",
              "      <th></th>\n",
              "      <th>key_0</th>\n",
              "      <th>name</th>\n",
              "      <th>geometry</th>\n",
              "      <th>Явка, %</th>\n",
              "    </tr>\n",
              "  </thead>\n",
              "  <tbody>\n",
              "    <tr>\n",
              "      <th>0</th>\n",
              "      <td>382</td>\n",
              "      <td>округ Малая Охта</td>\n",
              "      <td>MULTIPOLYGON (((30.44864 59.93848, 30.44840 59...</td>\n",
              "      <td>30</td>\n",
              "    </tr>\n",
              "    <tr>\n",
              "      <th>1</th>\n",
              "      <td>490</td>\n",
              "      <td>округ Пороховые</td>\n",
              "      <td>MULTIPOLYGON (((30.50775 59.94562, 30.50512 59...</td>\n",
              "      <td>33</td>\n",
              "    </tr>\n",
              "    <tr>\n",
              "      <th>2</th>\n",
              "      <td>3923</td>\n",
              "      <td>округ Ржевка</td>\n",
              "      <td>MULTIPOLYGON (((30.56533 59.97092, 30.56477 59...</td>\n",
              "      <td>28</td>\n",
              "    </tr>\n",
              "    <tr>\n",
              "      <th>3</th>\n",
              "      <td>12395</td>\n",
              "      <td>округ Большая Охта</td>\n",
              "      <td>MULTIPOLYGON (((30.44636 59.96046, 30.43920 59...</td>\n",
              "      <td>29</td>\n",
              "    </tr>\n",
              "    <tr>\n",
              "      <th>4</th>\n",
              "      <td>12397</td>\n",
              "      <td>округ Полюстрово</td>\n",
              "      <td>MULTIPOLYGON (((30.49614 59.99037, 30.49451 59...</td>\n",
              "      <td>35</td>\n",
              "    </tr>\n",
              "  </tbody>\n",
              "</table>\n",
              "</div>"
            ],
            "text/plain": [
              "   key_0  ... Явка, %\n",
              "0    382  ...      30\n",
              "1    490  ...      33\n",
              "2   3923  ...      28\n",
              "3  12395  ...      29\n",
              "4  12397  ...      35\n",
              "\n",
              "[5 rows x 4 columns]"
            ]
          },
          "metadata": {
            "tags": []
          },
          "execution_count": 118
        }
      ]
    },
    {
      "cell_type": "markdown",
      "metadata": {
        "id": "5D-eFCgJBd2S",
        "colab_type": "text"
      },
      "source": [
        "# Визуализация процентной явки избирателей по округам Красногвардейского района:"
      ]
    },
    {
      "cell_type": "code",
      "metadata": {
        "id": "KVvdalWUcyFG",
        "colab_type": "code",
        "colab": {
          "base_uri": "https://localhost:8080/",
          "height": 710
        },
        "outputId": "778df5bc-00ae-4d36-d691-47ab8c514a31"
      },
      "source": [
        "krasnogv_map1 = gpd.GeoDataFrame(krasnogv)\n",
        "krasnogv_map1.plot(column = 'Явка, %',  cmap='Wistia', legend=True, figsize=[12,12])"
      ],
      "execution_count": 119,
      "outputs": [
        {
          "output_type": "execute_result",
          "data": {
            "text/plain": [
              "<matplotlib.axes._subplots.AxesSubplot at 0x7fec06a474a8>"
            ]
          },
          "metadata": {
            "tags": []
          },
          "execution_count": 119
        },
        {
          "output_type": "display_data",
          "data": {
            "image/png": "[encoded data removed]",
            "text/plain": [
              "<Figure size 864x864 with 2 Axes>"
            ]
          },
          "metadata": {
            "tags": []
          }
        }
      ]
    }
  ]
}